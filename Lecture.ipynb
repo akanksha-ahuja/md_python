{
 "cells": [
  {
   "cell_type": "markdown",
   "metadata": {},
   "source": [
    "---\n",
    "# Lecture: Running Molecular Dynamics simulations in Python\n",
    "---\n",
    "\n",
    "## 1. Introduction <a id='l_overview'></a>\n",
    "\n",
    "This lecture is created in condition with CPS Teaching Fellowship and aimed at introducing a novel approach to study advanced scientific programming. The goal of today's lecture is to present Molecular Dynamics (MD) simulations of macromolecules and how to run them using Python programmming language. We will use a lot of `numpy` functions and a few of new modules, such as `openmm` for MD simulations. Important concepts that students need to master first and we will cover them all:\n",
    "\n",
    "- [Newton's Laws](#l_newton) \n",
    "- [Simulation of dynamics of particles](#l_sims)\n",
    "- [Proteins and levels of their structure](#l_proteins)\n",
    "- [Molecular Mechanics](#l_mm)\n",
    "- [MD simulations of proteins](#l_md)\n",
    "\n",
    "\n",
    "## 2. Newton's Laws <a id='l_newton'></a>\n",
    "\n",
    "The II Newton's law  connects the kinematics (movements) of the body with its mechanics (total force acting on it) and defines its dynamic evolution: \n",
    "\n",
    "$$m\\frac{d^2r(t)}{dt^2} = F = - \\nabla{U(r)},$$\n",
    "\n",
    "where $m$ is the mass, $r$ is the coordinate, $F$ is the force and $U(r)$ is the potential energy depending only on the position of the body. \n",
    "If one knows the forces acting upon the body, one can find the position of the body at any moment $r(t)$, i.e. predict its dynamics. It can be done by solving Newton's equation of motion. It is a second order ODE that can be solved analytically for a few simple cases: constant force, harmonic oscillator, periodic force, drag force, etc.\n",
    "However, general approach is to use computers and solve ODE numerically.\n",
    "\n",
    "\n",
    "## 3. Simulation of dynamics <a id='l_sims'></a>\n",
    "\n",
    "There are [a lot of methods](https://en.wikipedia.org/wiki/Numerical_methods_for_ordinary_differential_equations#Methods) for solving ODEs. Second order ODE is transformed to the system of two first order ODEs:\n",
    "\n",
    "$$\\frac{dr(t)}{dt} = v(t)$$\n",
    "\n",
    "$$m\\frac{dv(t)}{dt} = F(t)$$\n",
    "\n",
    "We use a finite difference approximation that comes to a simple forward Euler Algorithm: \n",
    "\n",
    "$$ v_{n+1} = v_n + \\frac{F_n}{m} dt$$\n",
    "\n",
    "$$ r_{n+1} = r_n + v_{n+1} dt$$\n",
    "\n",
    "Here we discretize time t with time step $dt$, so $t_{n+1} = t_n + dt$, and $r_{n} = r(t_n)$, $v_{n} = v(t_n)$, where $n$ is the timestep number. Now, computation of dynamics is straightforward."
   ]
  },
  {
   "cell_type": "markdown",
   "metadata": {},
   "source": [
    "\n",
    "<img src=\"pics/Toronto-04.png\" width=\"300\" align=\"right\">\n",
    "### Example 3.1. Simulation of a projectile on Earth.\n",
    "---\n",
    "\n",
    "We want to know the dynamics of a green apple ($m = 0.3$ kg) tossed horizontally at 10 cm/s speed from the top of the Toronto CN Tower (553 m) for the first 10 seconds."
   ]
  },
  {
   "cell_type": "code",
   "execution_count": 1,
   "metadata": {},
   "outputs": [],
   "source": [
    "import numpy as np\n",
    "import matplotlib.pyplot as plt\n",
    "from matplotlib import animation\n",
    "\n",
    "# Setup the figure and axes...\n",
    "fig, ax = plt.subplots(figsize=(6,6))\n",
    "\n",
    "## Adjust axes limits according to your problem. Here we don't need more than couple of meters left or right, and 600 meters up\n",
    "ax.set(xlim=(-2, 2), ylim=(0, 600), xlabel='Position, meters', ylabel='Height, meters', title='Apple falling from CN tower')\n",
    "\n",
    "# parameters of the problem\n",
    "T = 10. #s\n",
    "m = 0.3 #kg\n",
    "g = 9.8 #m/s^2\n",
    "v0x = -0.1 #m/s\n",
    "H = 553. #m\n",
    "\n",
    "# setting a timestep to be 50 ms\n",
    "dt = 0.05 #s\n",
    "N = int(T / dt)\n",
    "\n",
    "# Allocating arrays for 2D problem\n",
    "v = np.zeros((N+1, 2))\n",
    "r = np.zeros((N+1, 2))\n",
    "f = np.zeros((N+1, 2))\n",
    "\n",
    "# initial conditions:\n",
    "r[0] = np.array([0., H])\n",
    "v[0] = np.array([-v0x, 0.])\n",
    "\n",
    "# the only force is gravity\n",
    "f[:] = np.array([0., -m * g])\n",
    "\n",
    "## Run dynamics:\n",
    "for n in range(N):\n",
    "    v[n+1] = v[n] + f[n]/m * dt\n",
    "    r[n+1] = r[n] + v[n+1] * dt\n",
    "\n",
    "## drawing the first data point  \n",
    "scat = ax.scatter(r[0,0], r[0,1], marker='o', c='g', s=200)\n",
    "\n",
    "## animating \n",
    "def animate(i):\n",
    "    scat.set_offsets(r[i])\n",
    "\n",
    "ani = animation.FuncAnimation(fig, func=animate, frames=N)\n",
    "## this function will create a lot of *.png files in a folder 'CNtower_frames'\n",
    "## and create an HTML page with a simulation\n",
    "ani.save('CNtower.html', writer=animation.HTMLWriter(fps= 1//dt))\n",
    "plt.close()\n",
    "#ani.save('CNtower.mp4', fps= 1//dt)"
   ]
  },
  {
   "cell_type": "markdown",
   "metadata": {},
   "source": [
    "Let's visualize the dynamics using embedded HTML. It's interactive and you can play a movie step by step:"
   ]
  },
  {
   "cell_type": "code",
   "execution_count": 2,
   "metadata": {},
   "outputs": [
    {
     "data": {
      "text/html": [
       "\n",
       "<link rel=\"stylesheet\"\n",
       "href=\"https://maxcdn.bootstrapcdn.com/font-awesome/4.4.0/\n",
       "css/font-awesome.min.css\">\n",
       "<script language=\"javascript\">\n",
       "  /* Define the Animation class */\n",
       "  function Animation(frames, img_id, slider_id, interval, loop_select_id){\n",
       "    this.img_id = img_id;\n",
       "    this.slider_id = slider_id;\n",
       "    this.loop_select_id = loop_select_id;\n",
       "    this.interval = interval;\n",
       "    this.current_frame = 0;\n",
       "    this.direction = 0;\n",
       "    this.timer = null;\n",
       "    this.frames = new Array(frames.length);\n",
       "\n",
       "    for (var i=0; i<frames.length; i++)\n",
       "    {\n",
       "     this.frames[i] = new Image();\n",
       "     this.frames[i].src = frames[i];\n",
       "    }\n",
       "    document.getElementById(this.slider_id).max = this.frames.length - 1;\n",
       "    this.set_frame(this.current_frame);\n",
       "  }\n",
       "\n",
       "  Animation.prototype.get_loop_state = function(){\n",
       "    var button_group = document[this.loop_select_id].state;\n",
       "    for (var i = 0; i < button_group.length; i++) {\n",
       "        var button = button_group[i];\n",
       "        if (button.checked) {\n",
       "            return button.value;\n",
       "        }\n",
       "    }\n",
       "    return undefined;\n",
       "  }\n",
       "\n",
       "  Animation.prototype.set_frame = function(frame){\n",
       "    this.current_frame = frame;\n",
       "    document.getElementById(this.img_id).src =\n",
       "            this.frames[this.current_frame].src;\n",
       "    document.getElementById(this.slider_id).value = this.current_frame;\n",
       "  }\n",
       "\n",
       "  Animation.prototype.next_frame = function()\n",
       "  {\n",
       "    this.set_frame(Math.min(this.frames.length - 1, this.current_frame + 1));\n",
       "  }\n",
       "\n",
       "  Animation.prototype.previous_frame = function()\n",
       "  {\n",
       "    this.set_frame(Math.max(0, this.current_frame - 1));\n",
       "  }\n",
       "\n",
       "  Animation.prototype.first_frame = function()\n",
       "  {\n",
       "    this.set_frame(0);\n",
       "  }\n",
       "\n",
       "  Animation.prototype.last_frame = function()\n",
       "  {\n",
       "    this.set_frame(this.frames.length - 1);\n",
       "  }\n",
       "\n",
       "  Animation.prototype.slower = function()\n",
       "  {\n",
       "    this.interval /= 0.7;\n",
       "    if(this.direction > 0){this.play_animation();}\n",
       "    else if(this.direction < 0){this.reverse_animation();}\n",
       "  }\n",
       "\n",
       "  Animation.prototype.faster = function()\n",
       "  {\n",
       "    this.interval *= 0.7;\n",
       "    if(this.direction > 0){this.play_animation();}\n",
       "    else if(this.direction < 0){this.reverse_animation();}\n",
       "  }\n",
       "\n",
       "  Animation.prototype.anim_step_forward = function()\n",
       "  {\n",
       "    this.current_frame += 1;\n",
       "    if(this.current_frame < this.frames.length){\n",
       "      this.set_frame(this.current_frame);\n",
       "    }else{\n",
       "      var loop_state = this.get_loop_state();\n",
       "      if(loop_state == \"loop\"){\n",
       "        this.first_frame();\n",
       "      }else if(loop_state == \"reflect\"){\n",
       "        this.last_frame();\n",
       "        this.reverse_animation();\n",
       "      }else{\n",
       "        this.pause_animation();\n",
       "        this.last_frame();\n",
       "      }\n",
       "    }\n",
       "  }\n",
       "\n",
       "  Animation.prototype.anim_step_reverse = function()\n",
       "  {\n",
       "    this.current_frame -= 1;\n",
       "    if(this.current_frame >= 0){\n",
       "      this.set_frame(this.current_frame);\n",
       "    }else{\n",
       "      var loop_state = this.get_loop_state();\n",
       "      if(loop_state == \"loop\"){\n",
       "        this.last_frame();\n",
       "      }else if(loop_state == \"reflect\"){\n",
       "        this.first_frame();\n",
       "        this.play_animation();\n",
       "      }else{\n",
       "        this.pause_animation();\n",
       "        this.first_frame();\n",
       "      }\n",
       "    }\n",
       "  }\n",
       "\n",
       "  Animation.prototype.pause_animation = function()\n",
       "  {\n",
       "    this.direction = 0;\n",
       "    if (this.timer){\n",
       "      clearInterval(this.timer);\n",
       "      this.timer = null;\n",
       "    }\n",
       "  }\n",
       "\n",
       "  Animation.prototype.play_animation = function()\n",
       "  {\n",
       "    this.pause_animation();\n",
       "    this.direction = 1;\n",
       "    var t = this;\n",
       "    if (!this.timer) this.timer = setInterval(function() {\n",
       "        t.anim_step_forward();\n",
       "    }, this.interval);\n",
       "  }\n",
       "\n",
       "  Animation.prototype.reverse_animation = function()\n",
       "  {\n",
       "    this.pause_animation();\n",
       "    this.direction = -1;\n",
       "    var t = this;\n",
       "    if (!this.timer) this.timer = setInterval(function() {\n",
       "        t.anim_step_reverse();\n",
       "    }, this.interval);\n",
       "  }\n",
       "</script>\n",
       "\n",
       "<div class=\"animation\" align=\"center\">\n",
       "    <img id=\"_anim_img2e8c938a11ef41abbd0baeeab950bb20\">\n",
       "    <br>\n",
       "    <input id=\"_anim_slider2e8c938a11ef41abbd0baeeab950bb20\" type=\"range\" style=\"width:350px\"\n",
       "           name=\"points\" min=\"0\" max=\"1\" step=\"1\" value=\"0\"\n",
       "           onchange=\"anim2e8c938a11ef41abbd0baeeab950bb20.set_frame(parseInt(this.value));\"></input>\n",
       "    <br>\n",
       "    <button onclick=\"anim2e8c938a11ef41abbd0baeeab950bb20.slower()\"><i class=\"fa fa-minus\"></i></button>\n",
       "    <button onclick=\"anim2e8c938a11ef41abbd0baeeab950bb20.first_frame()\"><i class=\"fa fa-fast-backward\">\n",
       "        </i></button>\n",
       "    <button onclick=\"anim2e8c938a11ef41abbd0baeeab950bb20.previous_frame()\">\n",
       "        <i class=\"fa fa-step-backward\"></i></button>\n",
       "    <button onclick=\"anim2e8c938a11ef41abbd0baeeab950bb20.reverse_animation()\">\n",
       "        <i class=\"fa fa-play fa-flip-horizontal\"></i></button>\n",
       "    <button onclick=\"anim2e8c938a11ef41abbd0baeeab950bb20.pause_animation()\"><i class=\"fa fa-pause\">\n",
       "        </i></button>\n",
       "    <button onclick=\"anim2e8c938a11ef41abbd0baeeab950bb20.play_animation()\"><i class=\"fa fa-play\"></i>\n",
       "        </button>\n",
       "    <button onclick=\"anim2e8c938a11ef41abbd0baeeab950bb20.next_frame()\"><i class=\"fa fa-step-forward\">\n",
       "        </i></button>\n",
       "    <button onclick=\"anim2e8c938a11ef41abbd0baeeab950bb20.last_frame()\"><i class=\"fa fa-fast-forward\">\n",
       "        </i></button>\n",
       "    <button onclick=\"anim2e8c938a11ef41abbd0baeeab950bb20.faster()\"><i class=\"fa fa-plus\"></i></button>\n",
       "  <form action=\"#n\" name=\"_anim_loop_select2e8c938a11ef41abbd0baeeab950bb20\" class=\"anim_control\">\n",
       "    <input type=\"radio\" name=\"state\"\n",
       "           value=\"once\" > Once </input>\n",
       "    <input type=\"radio\" name=\"state\"\n",
       "           value=\"loop\" checked> Loop </input>\n",
       "    <input type=\"radio\" name=\"state\"\n",
       "           value=\"reflect\" > Reflect </input>\n",
       "  </form>\n",
       "</div>\n",
       "\n",
       "\n",
       "<script language=\"javascript\">\n",
       "  /* Instantiate the Animation class. */\n",
       "  /* The IDs given should match those used in the template above. */\n",
       "  (function() {\n",
       "    var img_id = \"_anim_img2e8c938a11ef41abbd0baeeab950bb20\";\n",
       "    var slider_id = \"_anim_slider2e8c938a11ef41abbd0baeeab950bb20\";\n",
       "    var loop_select_id = \"_anim_loop_select2e8c938a11ef41abbd0baeeab950bb20\";\n",
       "    var frames = new Array(200);\n",
       "    \n",
       "  for (var i=0; i<200; i++){\n",
       "    frames[i] = \"CNtower_frames/frame\" + (\"0000000\" + i).slice(-7) +\n",
       "                \".png\";\n",
       "  }\n",
       "\n",
       "\n",
       "    /* set a timeout to make sure all the above elements are created before\n",
       "       the object is initialized. */\n",
       "    setTimeout(function() {\n",
       "        anim2e8c938a11ef41abbd0baeeab950bb20 = new Animation(frames, img_id, slider_id, 52.0,\n",
       "                                 loop_select_id);\n",
       "    }, 0);\n",
       "  })()\n",
       "</script>\n"
      ],
      "text/plain": [
       "<IPython.core.display.HTML object>"
      ]
     },
     "execution_count": 2,
     "metadata": {},
     "output_type": "execute_result"
    }
   ],
   "source": [
    "from IPython.display import HTML\n",
    "HTML('CNtower.html')"
   ]
  },
  {
   "cell_type": "markdown",
   "metadata": {},
   "source": [
    "---\n",
    "When a closed system of particles are interacting through pairwise potentials, the force on each pacticle $i$ depends on its position in respect to other pacrticles $j$:\n",
    "\n",
    "$$m_i\\frac{d^2r_i(t)}{dt^2} = \\sum_jF_{ij}(t) = -\\sum_j\\nabla_i{U(|r_{ij}(t)|)}$$\n",
    "\n",
    "where $r_{ij} = \\sqrt{(x_i - x_j)^2 + (y_i - y_j)^2 + (z_i - z_j)^2}$ is the distance between particle $i$ and $j$, and $i,j \\in (1,N)$.\n",
    "\n",
    "### Example 3.2. Simulation of 3-body problem with Hooke's law:\n",
    "\n",
    "We want to know the dynamics of 3 particles $m = 1$ kg connected to each other with invisible springs with $K_s = 5$ N/m, and $r_0 = 1$ m initially located at (0, 2), (2, 0) and (-1, 0) on the 2D plane for the first 10 seconds.\n",
    "\n",
    "**Hints:**\n",
    "Pairwise potential is (Hooke's Law): $$U(r_{ij}) = \\frac{K_s}{2}(r_{ij} - r_0)^2$$\n",
    "\n",
    "Minus gradient of potential is a force from $j$-th upon $i$-th: \n",
    "\n",
    "$$\\mathbf{F_{ij}} = - \\nabla_i{U(r_{ij})} = - K_s (r_{ij} - r_0) \\nabla_i r_{ij} = - K_s (r_{ij} - r_0) \\mathbf{r_{ij}} / r_{ij}$$\n"
   ]
  },
  {
   "cell_type": "code",
   "execution_count": 3,
   "metadata": {},
   "outputs": [],
   "source": [
    "# Setup the figure and axes...\n",
    "fig, ax = plt.subplots(figsize=(6,6))\n",
    "ax.set(xlim=(-3.5, 3.5), ylim=(-3.5, 3.5), ylabel='meters', xlabel='meters', title='3-Body problem')\n",
    "\n",
    "# parameters of the problem\n",
    "T = 10. #s\n",
    "m = 1.0 #kg\n",
    "ks = 5 #N/m\n",
    "r0 = 1.\n",
    "\n",
    "# setting a timestep to be 50 ms\n",
    "dt = 0.05 #s\n",
    "N = int(T / dt)\n",
    "\n",
    "# Allocating arrays for 2D problem: first axis - time. second axis - particle's number. third - coordinate\n",
    "v = np.zeros((N+1, 3, 2))\n",
    "r = np.zeros((N+1, 3, 2))\n",
    "f = np.zeros((N+1, 3, 2))\n",
    "\n",
    "# initial conditions for 3 particles:\n",
    "r[0,0] = np.array([0., 2.])\n",
    "r[0,1] = np.array([2., 0.])\n",
    "r[0,2] = np.array([-1., 0.])\n",
    "\n",
    "def compute_forces(n):\n",
    "    '''The function computes forces on each pearticle at time step n'''\n",
    "    for i in range(3):\n",
    "        for j in range(3):\n",
    "            if i != j:\n",
    "                rij = r[n,i] - r[n,j]\n",
    "                rij_abs = np.linalg.norm(rij)\n",
    "                f[n, i] -= ks * (rij_abs - r0) * rij / rij_abs \n",
    "## Run dynamics:\n",
    "for n in range(N):\n",
    "    compute_forces(n)\n",
    "    v[n+1] = v[n] + f[n]/m * dt\n",
    "    r[n+1] = r[n] + v[n+1] * dt\n",
    "\n",
    "## drawing and animating \n",
    "scat = ax.scatter(r[0,:,0], r[0,:,1], marker='o', c=['b', 'k', 'r'], s=1000)\n",
    "\n",
    "def animate(i):\n",
    "    scat.set_offsets(r[i])\n",
    "\n",
    "ani = animation.FuncAnimation(fig, animate, frames=N)\n",
    "plt.close()\n",
    "## this function will create a lot of *.png files in a folder '3Body_frames'\n",
    "ani.save('3body.html', writer=animation.HTMLWriter(fps= 1//dt))"
   ]
  },
  {
   "cell_type": "markdown",
   "metadata": {},
   "source": [
    "Again, looking at the trajectory representation in real time:"
   ]
  },
  {
   "cell_type": "code",
   "execution_count": 4,
   "metadata": {
    "scrolled": false
   },
   "outputs": [
    {
     "data": {
      "text/html": [
       "\n",
       "<link rel=\"stylesheet\"\n",
       "href=\"https://maxcdn.bootstrapcdn.com/font-awesome/4.4.0/\n",
       "css/font-awesome.min.css\">\n",
       "<script language=\"javascript\">\n",
       "  /* Define the Animation class */\n",
       "  function Animation(frames, img_id, slider_id, interval, loop_select_id){\n",
       "    this.img_id = img_id;\n",
       "    this.slider_id = slider_id;\n",
       "    this.loop_select_id = loop_select_id;\n",
       "    this.interval = interval;\n",
       "    this.current_frame = 0;\n",
       "    this.direction = 0;\n",
       "    this.timer = null;\n",
       "    this.frames = new Array(frames.length);\n",
       "\n",
       "    for (var i=0; i<frames.length; i++)\n",
       "    {\n",
       "     this.frames[i] = new Image();\n",
       "     this.frames[i].src = frames[i];\n",
       "    }\n",
       "    document.getElementById(this.slider_id).max = this.frames.length - 1;\n",
       "    this.set_frame(this.current_frame);\n",
       "  }\n",
       "\n",
       "  Animation.prototype.get_loop_state = function(){\n",
       "    var button_group = document[this.loop_select_id].state;\n",
       "    for (var i = 0; i < button_group.length; i++) {\n",
       "        var button = button_group[i];\n",
       "        if (button.checked) {\n",
       "            return button.value;\n",
       "        }\n",
       "    }\n",
       "    return undefined;\n",
       "  }\n",
       "\n",
       "  Animation.prototype.set_frame = function(frame){\n",
       "    this.current_frame = frame;\n",
       "    document.getElementById(this.img_id).src =\n",
       "            this.frames[this.current_frame].src;\n",
       "    document.getElementById(this.slider_id).value = this.current_frame;\n",
       "  }\n",
       "\n",
       "  Animation.prototype.next_frame = function()\n",
       "  {\n",
       "    this.set_frame(Math.min(this.frames.length - 1, this.current_frame + 1));\n",
       "  }\n",
       "\n",
       "  Animation.prototype.previous_frame = function()\n",
       "  {\n",
       "    this.set_frame(Math.max(0, this.current_frame - 1));\n",
       "  }\n",
       "\n",
       "  Animation.prototype.first_frame = function()\n",
       "  {\n",
       "    this.set_frame(0);\n",
       "  }\n",
       "\n",
       "  Animation.prototype.last_frame = function()\n",
       "  {\n",
       "    this.set_frame(this.frames.length - 1);\n",
       "  }\n",
       "\n",
       "  Animation.prototype.slower = function()\n",
       "  {\n",
       "    this.interval /= 0.7;\n",
       "    if(this.direction > 0){this.play_animation();}\n",
       "    else if(this.direction < 0){this.reverse_animation();}\n",
       "  }\n",
       "\n",
       "  Animation.prototype.faster = function()\n",
       "  {\n",
       "    this.interval *= 0.7;\n",
       "    if(this.direction > 0){this.play_animation();}\n",
       "    else if(this.direction < 0){this.reverse_animation();}\n",
       "  }\n",
       "\n",
       "  Animation.prototype.anim_step_forward = function()\n",
       "  {\n",
       "    this.current_frame += 1;\n",
       "    if(this.current_frame < this.frames.length){\n",
       "      this.set_frame(this.current_frame);\n",
       "    }else{\n",
       "      var loop_state = this.get_loop_state();\n",
       "      if(loop_state == \"loop\"){\n",
       "        this.first_frame();\n",
       "      }else if(loop_state == \"reflect\"){\n",
       "        this.last_frame();\n",
       "        this.reverse_animation();\n",
       "      }else{\n",
       "        this.pause_animation();\n",
       "        this.last_frame();\n",
       "      }\n",
       "    }\n",
       "  }\n",
       "\n",
       "  Animation.prototype.anim_step_reverse = function()\n",
       "  {\n",
       "    this.current_frame -= 1;\n",
       "    if(this.current_frame >= 0){\n",
       "      this.set_frame(this.current_frame);\n",
       "    }else{\n",
       "      var loop_state = this.get_loop_state();\n",
       "      if(loop_state == \"loop\"){\n",
       "        this.last_frame();\n",
       "      }else if(loop_state == \"reflect\"){\n",
       "        this.first_frame();\n",
       "        this.play_animation();\n",
       "      }else{\n",
       "        this.pause_animation();\n",
       "        this.first_frame();\n",
       "      }\n",
       "    }\n",
       "  }\n",
       "\n",
       "  Animation.prototype.pause_animation = function()\n",
       "  {\n",
       "    this.direction = 0;\n",
       "    if (this.timer){\n",
       "      clearInterval(this.timer);\n",
       "      this.timer = null;\n",
       "    }\n",
       "  }\n",
       "\n",
       "  Animation.prototype.play_animation = function()\n",
       "  {\n",
       "    this.pause_animation();\n",
       "    this.direction = 1;\n",
       "    var t = this;\n",
       "    if (!this.timer) this.timer = setInterval(function() {\n",
       "        t.anim_step_forward();\n",
       "    }, this.interval);\n",
       "  }\n",
       "\n",
       "  Animation.prototype.reverse_animation = function()\n",
       "  {\n",
       "    this.pause_animation();\n",
       "    this.direction = -1;\n",
       "    var t = this;\n",
       "    if (!this.timer) this.timer = setInterval(function() {\n",
       "        t.anim_step_reverse();\n",
       "    }, this.interval);\n",
       "  }\n",
       "</script>\n",
       "\n",
       "<div class=\"animation\" align=\"center\">\n",
       "    <img id=\"_anim_img11e3561cafaa4bacbe3f3c44ee752af2\">\n",
       "    <br>\n",
       "    <input id=\"_anim_slider11e3561cafaa4bacbe3f3c44ee752af2\" type=\"range\" style=\"width:350px\"\n",
       "           name=\"points\" min=\"0\" max=\"1\" step=\"1\" value=\"0\"\n",
       "           onchange=\"anim11e3561cafaa4bacbe3f3c44ee752af2.set_frame(parseInt(this.value));\"></input>\n",
       "    <br>\n",
       "    <button onclick=\"anim11e3561cafaa4bacbe3f3c44ee752af2.slower()\"><i class=\"fa fa-minus\"></i></button>\n",
       "    <button onclick=\"anim11e3561cafaa4bacbe3f3c44ee752af2.first_frame()\"><i class=\"fa fa-fast-backward\">\n",
       "        </i></button>\n",
       "    <button onclick=\"anim11e3561cafaa4bacbe3f3c44ee752af2.previous_frame()\">\n",
       "        <i class=\"fa fa-step-backward\"></i></button>\n",
       "    <button onclick=\"anim11e3561cafaa4bacbe3f3c44ee752af2.reverse_animation()\">\n",
       "        <i class=\"fa fa-play fa-flip-horizontal\"></i></button>\n",
       "    <button onclick=\"anim11e3561cafaa4bacbe3f3c44ee752af2.pause_animation()\"><i class=\"fa fa-pause\">\n",
       "        </i></button>\n",
       "    <button onclick=\"anim11e3561cafaa4bacbe3f3c44ee752af2.play_animation()\"><i class=\"fa fa-play\"></i>\n",
       "        </button>\n",
       "    <button onclick=\"anim11e3561cafaa4bacbe3f3c44ee752af2.next_frame()\"><i class=\"fa fa-step-forward\">\n",
       "        </i></button>\n",
       "    <button onclick=\"anim11e3561cafaa4bacbe3f3c44ee752af2.last_frame()\"><i class=\"fa fa-fast-forward\">\n",
       "        </i></button>\n",
       "    <button onclick=\"anim11e3561cafaa4bacbe3f3c44ee752af2.faster()\"><i class=\"fa fa-plus\"></i></button>\n",
       "  <form action=\"#n\" name=\"_anim_loop_select11e3561cafaa4bacbe3f3c44ee752af2\" class=\"anim_control\">\n",
       "    <input type=\"radio\" name=\"state\"\n",
       "           value=\"once\" > Once </input>\n",
       "    <input type=\"radio\" name=\"state\"\n",
       "           value=\"loop\" checked> Loop </input>\n",
       "    <input type=\"radio\" name=\"state\"\n",
       "           value=\"reflect\" > Reflect </input>\n",
       "  </form>\n",
       "</div>\n",
       "\n",
       "\n",
       "<script language=\"javascript\">\n",
       "  /* Instantiate the Animation class. */\n",
       "  /* The IDs given should match those used in the template above. */\n",
       "  (function() {\n",
       "    var img_id = \"_anim_img11e3561cafaa4bacbe3f3c44ee752af2\";\n",
       "    var slider_id = \"_anim_slider11e3561cafaa4bacbe3f3c44ee752af2\";\n",
       "    var loop_select_id = \"_anim_loop_select11e3561cafaa4bacbe3f3c44ee752af2\";\n",
       "    var frames = new Array(200);\n",
       "    \n",
       "  for (var i=0; i<200; i++){\n",
       "    frames[i] = \"3body_frames/frame\" + (\"0000000\" + i).slice(-7) +\n",
       "                \".png\";\n",
       "  }\n",
       "\n",
       "\n",
       "    /* set a timeout to make sure all the above elements are created before\n",
       "       the object is initialized. */\n",
       "    setTimeout(function() {\n",
       "        anim11e3561cafaa4bacbe3f3c44ee752af2 = new Animation(frames, img_id, slider_id, 52.0,\n",
       "                                 loop_select_id);\n",
       "    }, 0);\n",
       "  })()\n",
       "</script>\n"
      ],
      "text/plain": [
       "<IPython.core.display.HTML object>"
      ]
     },
     "execution_count": 4,
     "metadata": {},
     "output_type": "execute_result"
    }
   ],
   "source": [
    "HTML('3body.html')"
   ]
  },
  {
   "cell_type": "markdown",
   "metadata": {},
   "source": [
    "While we have a basic knowledge of the purpose and methodology of simulations, we still need to understand what proteins are and why they are important.\n",
    "\n",
    "---\n",
    "## 4. Proteins, structure and functions <a id='l_proteins'></a>\n",
    "---\n",
    "<img src=\"pics/Protein_structure.png\" width=\"400\" align=\"right\">\n",
    "\n",
    "[Protein structure](https://en.wikipedia.org/wiki/Protein_structure) is the three-dimensional arrangement of atoms in an amino acid-chain molecule. Proteins are polymers – specifically polypeptides – formed from sequences of 20 types of amino acids, the monomers of the polymer. A single amino acid monomer may also be called a residue indicating a repeating unit of a polymer. To be able to perform their biological function, proteins fold into one or more specific spatial conformations driven by a number of non-covalent interactions such as:\n",
    "\n",
    "- hydrogen bonding \n",
    "- ionic interactions \n",
    "- Van der Waals forces\n",
    "- hydrophobic packing \n",
    "\n",
    "To understand the functions of proteins at a molecular level, it is often necessary to determine their three-dimensional structure using techniques such as X-ray crystallography, NMR spectroscopy, and others.\n",
    "\n",
    "### 4.1 Levels of structure:\n",
    "\n",
    "**Primary structure** of a protein refers to the sequence of amino acids in the polypeptide chain.\n",
    "\n",
    "**Secondary structure** refers to highly regular local sub-structures on the actual polypeptide backbone chain. Two main types of secondary structure, the α-helix and the β-strand or β-sheets.\n",
    "\n",
    "**Tertiary structure** refers to the three-dimensional structure of monomeric and multimeric protein molecules. The α-helixes and β-pleated-sheets are folded into a compact globular structure. \n",
    "\n",
    "**Quaternary structure** is the three-dimensional structure consisting of the aggregation of two or more individual polypeptide chains (subunits) that operate as a single functional unit (multimer).\n",
    "\n",
    "\n",
    "### 4.2 Functions:\n",
    "\n",
    "- *Antibodies* - bind to specific foreign particles, ex: IgG \n",
    "- *Enzymes* - speed up chemical reactions, ex: Lysozyme\n",
    "- *Messengers* - transmit signals, ex: Growth hormone \n",
    "- *Structural components* - support for cells, ex: Tubulin\n",
    "- *Transport/storage* - bind and carry small molecules, ex: Hemoglobin\n",
    "\n",
    "\n",
    "**Lysozyme** is an protein-enzyme (found in tears, saliva, mucus and egg white) that is a part of innate immune system with antimicrobial activity characterized by the ability to damage the cell wall of bacteria. Bacteria have polysaccharides (sugars) in their wall, that bind to the groove, and lysozyme cuts the bond and destroys bacteria.  \n",
    "\n",
    "|  ![Protein Sequence in DNA](pics/LysozymeSequence.png) | ![Protein Structure](pics/LysozymeStructure.gif) | ![Protein Strucure with Sugar](pics/LysozymeRock.gif) |\n",
    "|:-:|:-:|:-:|\n",
    "|  Sequence | Structure | Function  |\n",
    "\n",
    "Figure credit: [C.Ing](https://github.com/cing/HackingStructBiolTalk) and [wikipedia](https://en.wikipedia.org/wiki/Protein_structure)\n"
   ]
  },
  {
   "cell_type": "markdown",
   "metadata": {},
   "source": [
    "---\n",
    "## 5. Molecular Mechanics <a id='l_mm'></a>\n",
    "---\n",
    "\n",
    "Since we now know what proteins are and why these molecular machines are important, we consider the method to model them. The basic idea is to create same kind of approach as we used in 3-body simulation. Instead, our system consists of thousands particles (atoms of the protein plus atoms of surrounding water) and they all are connected via complex potential function.\n",
    "\n",
    "An all-atomic potential energy function $V$ is usually given by the sum of the bonded terms ($V_b$) and non-bonded terms ($V_{nb}$), i.e.\n",
    "\n",
    "$$V = V_{b} + V_{nb},$$\n",
    "\n",
    "where the bonded potential includes the harmonic (covalent) bond part, the harmonic angle and\n",
    "the two types of torsion (dihedral) angles: proper and improper. As it can be seen, these functions are mostly harmonic potentials \n",
    "\n",
    "$$V_{b} = \\sum_{bonds}\\frac{1}{2}K_b(b-b_0)^2 + \\sum_{angles}K_{\\theta}(\\theta-\\theta_0)^2 + \\sum_{dihedrals}K_{\\phi}(1-cos(n\\phi - \\phi_0)) + \\sum_{impropers}K_{\\psi}(\\psi-\\psi_0)^2$$\n",
    "\n",
    "For example, $b$ and $\\theta$ represent the distance between two atoms and the angle between two\n",
    "adjacent bonds; $\\phi$ and $\\psi$ are dihedral (torsion) angles. These can be evaluated for all the\n",
    "atoms from their current positions. Also, $k_b$, $k_\\theta$, $k_\\phi$, and $k_\\psi$ are the spring constants, associated\n",
    "with bond vibrations, bending of bond angles, and conformational fluctuations in dihedral and\n",
    "improper angles around some equilibrium values $b_0$, $\\theta_0$, $\\phi_0$, and $\\psi_0$, respectively. \n",
    "\n",
    "The non-bonded part of the potential energy function is represented by the electrostatic and van der Waals potentials, i.e.\n",
    "\n",
    "$$V_{nb} = \\sum_{i,j}\\left(\\frac{q_{i}q_{j}}{4\\pi\\varepsilon_{0}\\varepsilon r_{ij}} + \\varepsilon_{ij}\\left[\\left(\\frac{\\sigma^{min}_{ij}}{r_{ij}}\\right)^{12}-2\\left(\\frac{\\sigma^{min}_{ij}}{r_{ij}}\\right)^{6}\\right]\\right)$$\n",
    "\n",
    "where $r_{ij}$ is the distance between two interacting atoms, $q_i$ and $q_j$ are their electric charges; $\\varepsilon$ and\n",
    "$\\varepsilon_0$ are electric and dielectric constant; $\\varepsilon_{ij} = \\sqrt{\\varepsilon_i\\varepsilon_j}$ and\n",
    "$\\sigma_{ij} = \\frac{\\sigma_i + \\sigma_j}{2}$ are van der Waals parameters for atoms $i$ и $j$.\n",
    "\n",
    "**Importantly, each force field has its own set of parameters, which are different for different types of atoms.**\n",
    "\n",
    "![](pics/ff.png)\n"
   ]
  },
  {
   "cell_type": "markdown",
   "metadata": {},
   "source": [
    "## 6. Molecular dynamics of proteins <a id='l_md'></a>\n",
    "---\n",
    "\n",
    "[**Molecular dynamics (MD)**](https://en.wikipedia.org/wiki/Molecular_dynamics) is a computer simulation method for studying the physical movements of atoms and molecules, i.e. their dynamical evolution. \n",
    "\n",
    "In the most common version, the trajectories of atoms and molecules are determined by numerically solving Newton's equations of motion for a system of interacting particles, where forces between the particles and their potential energies are often calculated using  [molecular mechanics force fields](#l_mm). \n",
    "\n",
    "\n",
    "\n",
    "Now with all that intellectual equipment we can start running legit Molecular Dynamics simulations. All we need is an initial structure of the protein and software that computes its dynamics efficiently.\n"
   ]
  },
  {
   "cell_type": "markdown",
   "metadata": {},
   "source": [
    "### Procedure:\n",
    "1. Load initial coordinates of protein atoms (from `*.pdb` file)\n",
    "2. Choose force field parameters (in potential function V from section 5).\n",
    "3. Choose parameters of the experiment: temperature, pressure, box size, solvation, boundary conditions\n",
    "4. Choose integrator, i.e. algorithm for solving equation of motion\n",
    "5. Run simulation, save coordinates time to time (to `*.dcd` file).\n",
    "6. Visualize the trajectory \n",
    "7. Perform the analysis"
   ]
  },
  {
   "cell_type": "markdown",
   "metadata": {},
   "source": [
    "Python Libraries we gonna need today:\n",
    "\n",
    "1. [nglview](http://nglviewer.org/nglview/latest/index.html#installation) - module to visualize molecules\n",
    "2. [mdanalysis](https://www.mdanalysis.org/pages/installation_quick_start/) - module to analyze MD trajectory\n",
    "3. [openmm](http://docs.openmm.org/latest/userguide/application.html#installing-openmm) - module to run MD simulation"
   ]
  },
  {
   "cell_type": "code",
   "execution_count": 5,
   "metadata": {},
   "outputs": [],
   "source": [
    "from simtk.openmm.app import *\n",
    "from simtk.openmm import *\n",
    "from simtk.unit import *\n",
    "import MDAnalysis as md\n",
    "import nglview as ng\n",
    "from sys import stdout"
   ]
  },
  {
   "cell_type": "markdown",
   "metadata": {},
   "source": [
    "These files are already preloaded to your `data` folder."
   ]
  },
  {
   "cell_type": "code",
   "execution_count": 6,
   "metadata": {},
   "outputs": [],
   "source": [
    "pdb0_file = 'data/villin_water.pdb'\n",
    "pdb1_file = 'data/polyALA.pdb'\n",
    "pdb2_file = 'data/polyGLY.pdb'\n",
    "pdb3_file = 'data/polyGV.pdb'"
   ]
  },
  {
   "cell_type": "markdown",
   "metadata": {},
   "source": [
    "PDB files contain 3D structures of proteins that were resolved by experimental techniques. They can be downloaded from [ProteinDataBank](https://www.wwpdb.org/). How `.pdb` looks like: "
   ]
  },
  {
   "cell_type": "code",
   "execution_count": 19,
   "metadata": {},
   "outputs": [
    {
     "ename": "TypeError",
     "evalue": "'_io.TextIOWrapper' object is not subscriptable",
     "output_type": "error",
     "traceback": [
      "\u001b[0;31m---------------------------------------------------------------------------\u001b[0m",
      "\u001b[0;31mTypeError\u001b[0m                                 Traceback (most recent call last)",
      "\u001b[0;32m<ipython-input-19-faddb29286ae>\u001b[0m in \u001b[0;36m<module>\u001b[0;34m()\u001b[0m\n\u001b[1;32m      1\u001b[0m \u001b[0mfile0\u001b[0m \u001b[0;34m=\u001b[0m \u001b[0mopen\u001b[0m\u001b[0;34m(\u001b[0m\u001b[0mpdb0_file\u001b[0m\u001b[0;34m,\u001b[0m \u001b[0;34m'r'\u001b[0m\u001b[0;34m)\u001b[0m\u001b[0;34m\u001b[0m\u001b[0;34m\u001b[0m\u001b[0m\n\u001b[0;32m----> 2\u001b[0;31m \u001b[0;32mfor\u001b[0m \u001b[0mline\u001b[0m \u001b[0;32min\u001b[0m \u001b[0mfile0\u001b[0m\u001b[0;34m[\u001b[0m\u001b[0;34m:\u001b[0m\u001b[0;36m10\u001b[0m\u001b[0;34m]\u001b[0m\u001b[0;34m:\u001b[0m\u001b[0;34m\u001b[0m\u001b[0;34m\u001b[0m\u001b[0m\n\u001b[0m\u001b[1;32m      3\u001b[0m     \u001b[0mprint\u001b[0m\u001b[0;34m(\u001b[0m\u001b[0mline\u001b[0m\u001b[0;34m)\u001b[0m\u001b[0;34m\u001b[0m\u001b[0;34m\u001b[0m\u001b[0m\n",
      "\u001b[0;31mTypeError\u001b[0m: '_io.TextIOWrapper' object is not subscriptable"
     ]
    }
   ],
   "source": [
    "file0 = open(pdb0_file, 'r')\n",
    "n = 10\n",
    "for line in file0:\n",
    "    print(line)\n",
    "    if "
   ]
  },
  {
   "cell_type": "markdown",
   "metadata": {},
   "source": [
    "We can look at the protein via `nglview`:"
   ]
  },
  {
   "cell_type": "code",
   "execution_count": 15,
   "metadata": {},
   "outputs": [
    {
     "data": {
      "application/vnd.jupyter.widget-view+json": {
       "model_id": "bffd45df8e6e4ff6b1c839cca4433efe",
       "version_major": 2,
       "version_minor": 0
      },
      "text/plain": [
       "NGLWidget()"
      ]
     },
     "metadata": {},
     "output_type": "display_data"
    },
    {
     "data": {
      "application/vnd.jupyter.widget-view+json": {
       "model_id": "69d65684b2d848429ac5555791523b7b",
       "version_major": 2,
       "version_minor": 0
      },
      "text/plain": [
       "Tab(children=(Box(children=(Box(children=(Box(children=(Label(value='step'), IntSlider(value=1, min=-100)), la…"
      ]
     },
     "metadata": {},
     "output_type": "display_data"
    }
   ],
   "source": [
    "u = md.Universe(pdb0_file)\n",
    "ng.show_mdanalysis(u, gui=True)"
   ]
  },
  {
   "cell_type": "markdown",
   "metadata": {},
   "source": [
    "### Example 6.1. MD simulation of protein folding into alpha-helix\n",
    "---\n",
    "\n",
    "Run a simulation of fully extended polyalanine `polyALA.pdb` for 400 picoseconds in an air environment with T=300 K and see if it can fold to any secondary  structure:"
   ]
  },
  {
   "cell_type": "code",
   "execution_count": 9,
   "metadata": {},
   "outputs": [
    {
     "name": "stdout",
     "output_type": "stream",
     "text": [
      "#\"Progress (%)\",\"Step\",\"Potential Energy (kJ/mole)\",\"Temperature (K)\"\n",
      "2.5%,5000,5270.876953125,309.9877127051334\n",
      "5.0%,10000,5186.41796875,304.04833763785314\n",
      "7.5%,15000,5156.63232421875,309.8071337123869\n",
      "10.0%,20000,5070.45947265625,290.39873459587113\n",
      "12.5%,25000,5008.705078125,283.52268281758444\n",
      "15.0%,30000,4912.861328125,300.98922229774865\n",
      "17.5%,35000,4886.8427734375,290.17703890409825\n",
      "20.0%,40000,4911.572265625,292.33592272378894\n",
      "22.5%,45000,4813.28125,308.49390101394454\n",
      "25.0%,50000,4927.69677734375,272.448955640942\n",
      "27.5%,55000,4840.20166015625,311.36346741034214\n",
      "30.0%,60000,4840.7626953125,345.6439000050124\n",
      "32.5%,65000,4757.5361328125,316.88802530640737\n",
      "35.0%,70000,4816.197265625,315.2957709586708\n",
      "37.5%,75000,4480.36181640625,293.3363915167885\n",
      "40.0%,80000,4477.755859375,295.9929515503351\n",
      "42.5%,85000,4449.0439453125,289.7778101609453\n",
      "45.0%,90000,4601.51904296875,309.2426557866906\n",
      "47.5%,95000,4512.21484375,337.27802827554865\n",
      "50.0%,100000,4473.97900390625,296.32447532512737\n",
      "52.5%,105000,4545.443359375,297.2813080329877\n",
      "55.0%,110000,4539.4443359375,317.2526165270971\n",
      "57.5%,115000,4501.47705078125,283.7379213932762\n",
      "60.0%,120000,4450.37158203125,314.9791088440182\n",
      "62.5%,125000,4420.544921875,303.8111571554047\n",
      "65.0%,130000,4539.12109375,294.83770064976255\n",
      "67.5%,135000,4457.95947265625,299.1670568477143\n",
      "70.0%,140000,4445.70654296875,292.07178396598886\n",
      "72.5%,145000,4469.275390625,277.9289007728149\n",
      "75.0%,150000,4534.9765625,297.88345765974816\n",
      "77.5%,155000,4562.45166015625,294.7195043739118\n",
      "80.0%,160000,4510.57666015625,276.6236207622943\n",
      "82.5%,165000,4473.48828125,327.40003537663466\n",
      "85.0%,170000,4590.51416015625,304.6471277868011\n",
      "87.5%,175000,4534.01416015625,340.5224546295125\n",
      "90.0%,180000,4466.7978515625,312.3226687726031\n",
      "92.5%,185000,4466.6708984375,266.0185184186476\n",
      "95.0%,190000,4534.1689453125,292.1494554177894\n",
      "97.5%,195000,4501.44140625,289.9857220832719\n",
      "100.0%,200000,4560.53759765625,344.6829853037332\n"
     ]
    }
   ],
   "source": [
    "### 1.loading initial coordinates\n",
    "pdb = PDBFile(pdb3_file) \n",
    "\n",
    "### 2.choosing a forcefield parameters\n",
    "ff = ForceField('amber10.xml')  \n",
    "system = ff.createSystem(pdb.topology, nonbondedMethod=CutoffNonPeriodic)\n",
    "\n",
    "### 3. Choose parameters of the experiment: temperature, pressure, box size, solvation, boundary conditions, etc\n",
    "temperature = 300*kelvin\n",
    "frictionCoeff = 1/picosecond\n",
    "time_step = 0.002*picoseconds\n",
    "total_steps = 400*picoseconds / time_step\n",
    "\n",
    "### 4. Choose an algorithm (integrator)\n",
    "integrator = LangevinIntegrator(temperature, frictionCoeff, time_step)\n",
    "\n",
    "### 5. Run simulation, saving coordinates time to time:\n",
    "\n",
    "### 5a. Create a simulation object\n",
    "simulation = Simulation(pdb.topology, system, integrator)\n",
    "simulation.context.setPositions(pdb.positions)\n",
    "\n",
    "### 5b. Minimize energy\n",
    "simulation.minimizeEnergy()\n",
    "\n",
    "### 5c. Save coordinates to dcd file and energues to standard output console:\n",
    "simulation.reporters.append(DCDReporter('data/polyALA_traj.dcd', 1000))\n",
    "simulation.reporters.append(StateDataReporter(stdout, 5000, step=True, potentialEnergy=True,\\\n",
    "                                              temperature=True, progress=True, totalSteps = total_steps))\n",
    "\n",
    "### 5d. Run!\n",
    "simulation.step(total_steps)"
   ]
  },
  {
   "cell_type": "markdown",
   "metadata": {},
   "source": [
    "**Visualization**\n",
    "\n",
    "Let's look at the trajectory:"
   ]
  },
  {
   "cell_type": "code",
   "execution_count": 16,
   "metadata": {},
   "outputs": [
    {
     "data": {
      "application/vnd.jupyter.widget-view+json": {
       "model_id": "701458fb0e634f278f602e6fde6a2cce",
       "version_major": 2,
       "version_minor": 0
      },
      "text/plain": [
       "NGLWidget(count=200)"
      ]
     },
     "metadata": {},
     "output_type": "display_data"
    },
    {
     "data": {
      "application/vnd.jupyter.widget-view+json": {
       "model_id": "2366ffa2f4f9445da595553851208c86",
       "version_major": 2,
       "version_minor": 0
      },
      "text/plain": [
       "Tab(children=(Box(children=(Box(children=(Box(children=(Label(value='step'), IntSlider(value=1, min=-100)), la…"
      ]
     },
     "metadata": {},
     "output_type": "display_data"
    }
   ],
   "source": [
    "### 6. Visualization\n",
    "sys = md.Universe(pdb3_file, 'data/polyALA_traj.dcd')\n",
    "ng.show_mdanalysis(sys, gui=True)"
   ]
  },
  {
   "cell_type": "markdown",
   "metadata": {},
   "source": [
    "### Example 6.2. Analysis of MD trajectory.\n",
    "---\n",
    "\n",
    "**End-to-end distance**:"
   ]
  },
  {
   "cell_type": "code",
   "execution_count": 11,
   "metadata": {},
   "outputs": [],
   "source": [
    "### analysis of end-to-end distance\n",
    "\n",
    "## choose terminal atoms \n",
    "N_terminus = sys.select_atoms('resid 1 and name N')\n",
    "C_terminus = sys.select_atoms('resid 25 and name C')\n",
    "\n",
    "## go through the whole trajectory and compute distance between them dor every frame\n",
    "dist = []\n",
    "for frame in sys.trajectory:\n",
    "    dist.append(np.linalg.norm(N_terminus.positions - C_terminus.positions))\n",
    "\n",
    "## the result is in the dist array    \n",
    "dist = np.array(dist) "
   ]
  },
  {
   "cell_type": "markdown",
   "metadata": {},
   "source": [
    "**Number of hydrogen bonds:**"
   ]
  },
  {
   "cell_type": "code",
   "execution_count": 12,
   "metadata": {},
   "outputs": [
    {
     "name": "stdout",
     "output_type": "stream",
     "text": [
      "[]\n",
      "[[133, 117, 'ALA14:H', 'ALA12:O', 1.9980065229473696, 140.13567634753895]]\n",
      "[[133, 117, 'ALA14:H', 'ALA12:O', 1.9371620608953988, 136.89150532541854]]\n"
     ]
    }
   ],
   "source": [
    "from MDAnalysis.analysis import hbonds ## module for analysis of hysrogen bonds\n",
    "\n",
    "## compute information about hbonds and write it in the 'hb.timeseries'\n",
    "hb = hbonds.hbond_analysis.HydrogenBondAnalysis(sys)\n",
    "hb.run()\n",
    "\n",
    "## print information for the first 3 frames\n",
    "for frame in hb.timeseries[:3]:\n",
    "    print(frame) "
   ]
  },
  {
   "cell_type": "code",
   "execution_count": 13,
   "metadata": {},
   "outputs": [],
   "source": [
    "## go through the 'hb.timeseries' file and calculate number of bonds for each time frame (it's the length of array frame)\n",
    "hb_number = []\n",
    "for frame in hb.timeseries:\n",
    "    hb_number.append(len(frame))\n",
    "    \n",
    "## the result is in the number array     \n",
    "hb_number = np.array(hb_number)"
   ]
  },
  {
   "cell_type": "markdown",
   "metadata": {},
   "source": [
    "We can plot end-to-end distance and number of hydrogen bonds vs time:"
   ]
  },
  {
   "cell_type": "code",
   "execution_count": 17,
   "metadata": {},
   "outputs": [
    {
     "data": {
      "image/png": "[encoded data removed]",
      "text/plain": [
       "<Figure size 1080x360 with 2 Axes>"
      ]
     },
     "metadata": {},
     "output_type": "display_data"
    }
   ],
   "source": [
    "plt.figure(figsize=(15,5))\n",
    "\n",
    "plt.subplot(121)\n",
    "plt.plot( dist, '-k' )\n",
    "plt.xlabel('timesteps')\n",
    "plt.ylabel('end-to-end distance, A')\n",
    "\n",
    "plt.subplot(122)\n",
    "plt.plot(hb_number, 'g-')\n",
    "plt.ylabel('# of hydrogen bonds')\n",
    "plt.xlabel('timesteps')\n",
    "\n",
    "plt.show()"
   ]
  },
  {
   "cell_type": "markdown",
   "metadata": {},
   "source": [
    "**[Ramachandran plot](https://en.wikipedia.org/wiki/Ramachandran_plot):**"
   ]
  },
  {
   "cell_type": "code",
   "execution_count": 18,
   "metadata": {},
   "outputs": [
    {
     "name": "stderr",
     "output_type": "stream",
     "text": [
      "/home/klyshko/anaconda3/lib/python3.6/site-packages/MDAnalysis/analysis/dihedrals.py:286: UserWarning: Cannot determine phi and psi angles for the first or last residues\n",
      "  warnings.warn(\"Cannot determine phi and psi angles for the first \"\n"
     ]
    },
    {
     "data": {
      "text/plain": [
       "Text(30, 150, 'beta region')"
      ]
     },
     "execution_count": 18,
     "metadata": {},
     "output_type": "execute_result"
    },
    {
     "data": {
      "image/png": "[encoded data removed]",
      "text/plain": [
       "<Figure size 576x576 with 1 Axes>"
      ]
     },
     "metadata": {},
     "output_type": "display_data"
    }
   ],
   "source": [
    "from MDAnalysis.analysis import dihedrals  ## module for dihedrals analysis\n",
    "\n",
    "ram1 = dihedrals.Ramachandran(sys).run(0,30) ## analyse for first 30 steps (black color)\n",
    "ram2 = dihedrals.Ramachandran(sys).run(170,200) ## analyse for last 30 steps (blue color)\n",
    "\n",
    "## ramachandran plot\n",
    "fig, ax = plt.subplots(figsize=(8,8))\n",
    "ram1.plot(ax=ax, color='k', marker='.')\n",
    "ram2.plot(ax=ax, color='b', marker='.')\n",
    "ax.arrow(20, 20, -40, -40, width=2, head_width=8, head_length=12, fc='b', ec='b')\n",
    "ax.text(30, 20, 'alpha region', color='blue')\n",
    "ax.arrow(20, 150, -40, 0, width=2, head_width=8, head_length=12, fc='k', ec='k')\n",
    "ax.text(30, 150, 'beta region')"
   ]
  },
  {
   "cell_type": "markdown",
   "metadata": {},
   "source": [
    "<hr>"
   ]
  },
  {
   "cell_type": "markdown",
   "metadata": {},
   "source": [
    "## Excercise 1. Simulation of a projectile.\n",
    "\n",
    "<img src=\"pics/brady.JPG\" width=\"15%\" align='right'>\n",
    "Read through chapters 2-3 and example 3.1 of the lecture. Write a program that simulate the 2-s motion of the NFL ball ($m = 15$ ounces) thrown by quaterback [T.Brady](https://en.wikipedia.org/wiki/Tom_Brady) from height $H=8$ ft at speed $v=60$ MPH which is 30 degrees to the horizontal. Save the simulation as `brady.html`. \n",
    "\n",
    "**Hint**. Be careful with units. You need SI.\n",
    "\n",
    "Use the cell below."
   ]
  },
  {
   "cell_type": "code",
   "execution_count": null,
   "metadata": {},
   "outputs": [],
   "source": []
  },
  {
   "cell_type": "markdown",
   "metadata": {},
   "source": [
    "## Excercise 2. Simulation of a N-body problem.\n",
    "\n",
    "Read through chapters 2-3 and example 3.2 of the lecture. Write a program that simulate the 10-s dynamics of **4** particles $m = 0.5$ kg connected to each other with invisible springs with $K_s = 8$ N/m, and $r_0 = 2$ m initially located at (0,0), (0, 2), (2, 0) and (2, 2) on the 2D plane. Save the simulation as `4body.html`.\n",
    "\n",
    "\n",
    "Use the cell below."
   ]
  },
  {
   "cell_type": "code",
   "execution_count": null,
   "metadata": {},
   "outputs": [],
   "source": []
  },
  {
   "cell_type": "markdown",
   "metadata": {},
   "source": [
    "## Excercise 3. Your first MD simulation.\n",
    "\n",
    "Read through chapter 6 and example 6.1-6.2 of the lecture. Run 3 simulations of fully extended polyglycine `data/polyGLY.pdb` for 1 nanosecond in an air environment with $T_1=100 K$, $T_2=300 K$, and $T_3=500 K$ and visually compare how extended the final structure is at each temperature.  "
   ]
  },
  {
   "cell_type": "code",
   "execution_count": null,
   "metadata": {},
   "outputs": [],
   "source": []
  },
  {
   "cell_type": "markdown",
   "metadata": {},
   "source": [
    "## Excercise 4. MD simulation analysis.\n",
    "\n",
    "Perform a quantitative analysis of the trajectories you got in Ex. 3. Use, for example, end-to-end distance or function `radius_of_gyration()` from `MDAnalysis` module returns [radius of gyration](https://en.wikipedia.org/wiki/Radius_of_gyration) of the protein."
   ]
  },
  {
   "cell_type": "code",
   "execution_count": null,
   "metadata": {},
   "outputs": [],
   "source": []
  }
 ],
 "metadata": {
  "kernelspec": {
   "display_name": "Python 3",
   "language": "python",
   "name": "python3"
  },
  "language_info": {
   "codemirror_mode": {
    "name": "ipython",
    "version": 3
   },
   "file_extension": ".py",
   "mimetype": "text/x-python",
   "name": "python",
   "nbconvert_exporter": "python",
   "pygments_lexer": "ipython3",
   "version": "3.6.8"
  }
 },
 "nbformat": 4,
 "nbformat_minor": 2
}
